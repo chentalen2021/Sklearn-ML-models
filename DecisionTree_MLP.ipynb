{
 "cells": [
  {
   "cell_type": "code",
   "execution_count": 1,
   "metadata": {},
   "outputs": [],
   "source": [
    "import pandas as pd\n",
    "import numpy as np\n",
    "import matplotlib.pyplot as plt\n",
    "from sklearn.model_selection import train_test_split,cross_val_score\n",
    "from sklearn.preprocessing import StandardScaler,MinMaxScaler,LabelEncoder\n",
    "from sklearn.metrics import accuracy_score,confusion_matrix,plot_confusion_matrix,roc_curve,auc,mean_squared_error\n",
    "from sklearn.tree import DecisionTreeClassifier\n",
    "from sklearn import tree\n",
    "from sklearn.neural_network import MLPClassifier"
   ]
  },
  {
   "cell_type": "code",
   "execution_count": 3,
   "metadata": {},
   "outputs": [
    {
     "name": "stdout",
     "output_type": "stream",
     "text": [
      "Index(['class', 'b1', 'b2', 'b3', 'b4', 'b5', 'b6', 'b7', 'b8', 'b9',\n",
      "       'pred_minus_obs_H_b1', 'pred_minus_obs_H_b2', 'pred_minus_obs_H_b3',\n",
      "       'pred_minus_obs_H_b4', 'pred_minus_obs_H_b5', 'pred_minus_obs_H_b6',\n",
      "       'pred_minus_obs_H_b7', 'pred_minus_obs_H_b8', 'pred_minus_obs_H_b9',\n",
      "       'pred_minus_obs_S_b1', 'pred_minus_obs_S_b2', 'pred_minus_obs_S_b3',\n",
      "       'pred_minus_obs_S_b4', 'pred_minus_obs_S_b5', 'pred_minus_obs_S_b6',\n",
      "       'pred_minus_obs_S_b7', 'pred_minus_obs_S_b8', 'pred_minus_obs_S_b9'],\n",
      "      dtype='object')\n",
      "class                  0\n",
      "b1                     0\n",
      "b2                     0\n",
      "b3                     0\n",
      "b4                     0\n",
      "b5                     0\n",
      "b6                     0\n",
      "b7                     0\n",
      "b8                     0\n",
      "b9                     0\n",
      "pred_minus_obs_H_b1    0\n",
      "pred_minus_obs_H_b2    0\n",
      "pred_minus_obs_H_b3    0\n",
      "pred_minus_obs_H_b4    0\n",
      "pred_minus_obs_H_b5    0\n",
      "pred_minus_obs_H_b6    0\n",
      "pred_minus_obs_H_b7    0\n",
      "pred_minus_obs_H_b8    0\n",
      "pred_minus_obs_H_b9    0\n",
      "pred_minus_obs_S_b1    0\n",
      "pred_minus_obs_S_b2    0\n",
      "pred_minus_obs_S_b3    0\n",
      "pred_minus_obs_S_b4    0\n",
      "pred_minus_obs_S_b5    0\n",
      "pred_minus_obs_S_b6    0\n",
      "pred_minus_obs_S_b7    0\n",
      "pred_minus_obs_S_b8    0\n",
      "pred_minus_obs_S_b9    0\n",
      "dtype: int64\n",
      "class                   object\n",
      "b1                       int64\n",
      "b2                       int64\n",
      "b3                       int64\n",
      "b4                       int64\n",
      "b5                       int64\n",
      "b6                       int64\n",
      "b7                       int64\n",
      "b8                       int64\n",
      "b9                       int64\n",
      "pred_minus_obs_H_b1    float64\n",
      "pred_minus_obs_H_b2    float64\n",
      "pred_minus_obs_H_b3    float64\n",
      "pred_minus_obs_H_b4    float64\n",
      "pred_minus_obs_H_b5    float64\n",
      "pred_minus_obs_H_b6    float64\n",
      "pred_minus_obs_H_b7    float64\n",
      "pred_minus_obs_H_b8    float64\n",
      "pred_minus_obs_H_b9    float64\n",
      "pred_minus_obs_S_b1    float64\n",
      "pred_minus_obs_S_b2    float64\n",
      "pred_minus_obs_S_b3    float64\n",
      "pred_minus_obs_S_b4    float64\n",
      "pred_minus_obs_S_b5    float64\n",
      "pred_minus_obs_S_b6    float64\n",
      "pred_minus_obs_S_b7    float64\n",
      "pred_minus_obs_S_b8    float64\n",
      "pred_minus_obs_S_b9    float64\n",
      "dtype: object\n"
     ]
    }
   ],
   "source": [
    "#Read the data file and transform into dataframe\n",
    "df_Forest = pd.read_excel(r'D:/Datasets/Forest.xlsx')\n",
    "\n",
    "print(df_Forest.columns)\n",
    "#Check the dataframe to see whether it has missing values and the data type of each column\n",
    "print(df_Forest.isnull().sum())\n",
    "print(df_Forest.dtypes)"
   ]
  },
  {
   "cell_type": "code",
   "execution_count": 5,
   "metadata": {},
   "outputs": [],
   "source": [
    "#Split the dataframe into predictors and target columns\n",
    "predictors = df_Forest.iloc[:,1:]\n",
    "target = df_Forest.iloc[:,0]\n",
    "\n",
    "#Split the predictor and target sets into training and testing sets\n",
    "predi_train, predi_test, target_train, target_test = train_test_split(predictors, target, test_size=0.3,random_state=100)"
   ]
  },
  {
   "cell_type": "code",
   "execution_count": 6,
   "metadata": {},
   "outputs": [],
   "source": [
    "#Enlabel the non-numeric column\n",
    "class_le = LabelEncoder()\n",
    "target_train = class_le.fit_transform(target_train)\n",
    "target_test = class_le.transform(target_test)\n",
    "\n",
    "#Standardise the predictors for Decision Tree classifier\n",
    "scaler1 = StandardScaler()\n",
    "predi_train_tree = scaler1.fit_transform(predi_train)\n",
    "predi_test_tree = scaler1.transform(predi_test)\n",
    "    #Standardise the whole predictors for cross-validation\n",
    "predictors_tree = scaler1.fit_transform(predictors)\n",
    "\n",
    "#Normalise the predictors for MultiLayer Perceptron\n",
    "scaler2 = MinMaxScaler()\n",
    "predi_train_MLP = scaler2.fit_transform(predi_train)\n",
    "predi_test_MLP = scaler2.transform(predi_test)\n",
    "    #Normalise the whole predictors for cross-validation\n",
    "predictors_MLP = scaler2.fit_transform(predictors)"
   ]
  },
  {
   "cell_type": "code",
   "execution_count": 7,
   "metadata": {},
   "outputs": [
    {
     "data": {
      "text/html": [
       "<div>\n",
       "<style scoped>\n",
       "    .dataframe tbody tr th:only-of-type {\n",
       "        vertical-align: middle;\n",
       "    }\n",
       "\n",
       "    .dataframe tbody tr th {\n",
       "        vertical-align: top;\n",
       "    }\n",
       "\n",
       "    .dataframe thead th {\n",
       "        text-align: right;\n",
       "    }\n",
       "</style>\n",
       "<table border=\"1\" class=\"dataframe\">\n",
       "  <thead>\n",
       "    <tr style=\"text-align: right;\">\n",
       "      <th></th>\n",
       "      <th>Depth</th>\n",
       "      <th>Min_samples_split</th>\n",
       "      <th>Min_samples_leaf</th>\n",
       "      <th>Accurarcy</th>\n",
       "    </tr>\n",
       "  </thead>\n",
       "  <tbody>\n",
       "    <tr>\n",
       "      <th>0</th>\n",
       "      <td>1</td>\n",
       "      <td>10</td>\n",
       "      <td>5</td>\n",
       "      <td>0.625167</td>\n",
       "    </tr>\n",
       "    <tr>\n",
       "      <th>1</th>\n",
       "      <td>1</td>\n",
       "      <td>10</td>\n",
       "      <td>6</td>\n",
       "      <td>0.625167</td>\n",
       "    </tr>\n",
       "    <tr>\n",
       "      <th>2</th>\n",
       "      <td>1</td>\n",
       "      <td>10</td>\n",
       "      <td>7</td>\n",
       "      <td>0.625167</td>\n",
       "    </tr>\n",
       "    <tr>\n",
       "      <th>3</th>\n",
       "      <td>1</td>\n",
       "      <td>10</td>\n",
       "      <td>8</td>\n",
       "      <td>0.625167</td>\n",
       "    </tr>\n",
       "    <tr>\n",
       "      <th>4</th>\n",
       "      <td>1</td>\n",
       "      <td>10</td>\n",
       "      <td>9</td>\n",
       "      <td>0.625167</td>\n",
       "    </tr>\n",
       "  </tbody>\n",
       "</table>\n",
       "</div>"
      ],
      "text/plain": [
       "   Depth  Min_samples_split  Min_samples_leaf  Accurarcy\n",
       "0      1                 10                 5   0.625167\n",
       "1      1                 10                 6   0.625167\n",
       "2      1                 10                 7   0.625167\n",
       "3      1                 10                 8   0.625167\n",
       "4      1                 10                 9   0.625167"
      ]
     },
     "execution_count": 7,
     "metadata": {},
     "output_type": "execute_result"
    }
   ],
   "source": [
    "#Build Decision Tree classifier and make predictions\n",
    "    #Determine the best max_depth parameter for Decision Tree by mean-square-error\n",
    "accuracies=[]\n",
    "depths=[]\n",
    "samples_split=[]\n",
    "samples_leaf =[]\n",
    "\n",
    "for x in range(1,11):\n",
    "    for y in range(10,50):\n",
    "        for z in range(5,50):\n",
    "            clf_tree_try = DecisionTreeClassifier(criterion='entropy',max_depth=x,min_samples_split=y,min_samples_leaf=z,random_state=100)\n",
    "            clf_tree_try.fit(predi_train_tree,target_train)\n",
    "            predictions_tree = clf_tree_try.predict(predi_test_tree)\n",
    "            accuracies.append(cross_val_score(clf_tree_try,predictors_tree,target,cv=3).mean())\n",
    "            depths.append(x)\n",
    "            samples_split.append(y)\n",
    "            samples_leaf.append(z)\n",
    "\n",
    "df_param_accu = pd.DataFrame({\n",
    "    'Depth' : depths,\n",
    "    'Min_samples_split' : samples_split,\n",
    "    'Min_samples_leaf' : samples_leaf,\n",
    "    'Accurarcy' : accuracies\n",
    "})\n",
    "\n",
    "df_param_accu.head()"
   ]
  },
  {
   "cell_type": "code",
   "execution_count": 15,
   "metadata": {},
   "outputs": [
    {
     "data": {
      "text/html": [
       "<div>\n",
       "<style scoped>\n",
       "    .dataframe tbody tr th:only-of-type {\n",
       "        vertical-align: middle;\n",
       "    }\n",
       "\n",
       "    .dataframe tbody tr th {\n",
       "        vertical-align: top;\n",
       "    }\n",
       "\n",
       "    .dataframe thead th {\n",
       "        text-align: right;\n",
       "    }\n",
       "</style>\n",
       "<table border=\"1\" class=\"dataframe\">\n",
       "  <thead>\n",
       "    <tr style=\"text-align: right;\">\n",
       "      <th></th>\n",
       "      <th>Depth</th>\n",
       "      <th>Min_samples_split</th>\n",
       "      <th>Min_samples_leaf</th>\n",
       "      <th>Accurarcy</th>\n",
       "    </tr>\n",
       "  </thead>\n",
       "  <tbody>\n",
       "    <tr>\n",
       "      <th>9318</th>\n",
       "      <td>6</td>\n",
       "      <td>17</td>\n",
       "      <td>8</td>\n",
       "      <td>0.866065</td>\n",
       "    </tr>\n",
       "    <tr>\n",
       "      <th>5717</th>\n",
       "      <td>4</td>\n",
       "      <td>17</td>\n",
       "      <td>7</td>\n",
       "      <td>0.866065</td>\n",
       "    </tr>\n",
       "    <tr>\n",
       "      <th>16518</th>\n",
       "      <td>10</td>\n",
       "      <td>17</td>\n",
       "      <td>8</td>\n",
       "      <td>0.866065</td>\n",
       "    </tr>\n",
       "    <tr>\n",
       "      <th>11118</th>\n",
       "      <td>7</td>\n",
       "      <td>17</td>\n",
       "      <td>8</td>\n",
       "      <td>0.866065</td>\n",
       "    </tr>\n",
       "    <tr>\n",
       "      <th>7518</th>\n",
       "      <td>5</td>\n",
       "      <td>17</td>\n",
       "      <td>8</td>\n",
       "      <td>0.866065</td>\n",
       "    </tr>\n",
       "    <tr>\n",
       "      <th>...</th>\n",
       "      <td>...</td>\n",
       "      <td>...</td>\n",
       "      <td>...</td>\n",
       "      <td>...</td>\n",
       "    </tr>\n",
       "    <tr>\n",
       "      <th>1099</th>\n",
       "      <td>1</td>\n",
       "      <td>34</td>\n",
       "      <td>24</td>\n",
       "      <td>0.625167</td>\n",
       "    </tr>\n",
       "    <tr>\n",
       "      <th>1100</th>\n",
       "      <td>1</td>\n",
       "      <td>34</td>\n",
       "      <td>25</td>\n",
       "      <td>0.625167</td>\n",
       "    </tr>\n",
       "    <tr>\n",
       "      <th>1101</th>\n",
       "      <td>1</td>\n",
       "      <td>34</td>\n",
       "      <td>26</td>\n",
       "      <td>0.625167</td>\n",
       "    </tr>\n",
       "    <tr>\n",
       "      <th>1102</th>\n",
       "      <td>1</td>\n",
       "      <td>34</td>\n",
       "      <td>27</td>\n",
       "      <td>0.625167</td>\n",
       "    </tr>\n",
       "    <tr>\n",
       "      <th>0</th>\n",
       "      <td>1</td>\n",
       "      <td>10</td>\n",
       "      <td>5</td>\n",
       "      <td>0.625167</td>\n",
       "    </tr>\n",
       "  </tbody>\n",
       "</table>\n",
       "<p>18000 rows × 4 columns</p>\n",
       "</div>"
      ],
      "text/plain": [
       "       Depth  Min_samples_split  Min_samples_leaf  Accurarcy\n",
       "9318       6                 17                 8   0.866065\n",
       "5717       4                 17                 7   0.866065\n",
       "16518     10                 17                 8   0.866065\n",
       "11118      7                 17                 8   0.866065\n",
       "7518       5                 17                 8   0.866065\n",
       "...      ...                ...               ...        ...\n",
       "1099       1                 34                24   0.625167\n",
       "1100       1                 34                25   0.625167\n",
       "1101       1                 34                26   0.625167\n",
       "1102       1                 34                27   0.625167\n",
       "0          1                 10                 5   0.625167\n",
       "\n",
       "[18000 rows x 4 columns]"
      ]
     },
     "execution_count": 15,
     "metadata": {},
     "output_type": "execute_result"
    }
   ],
   "source": [
    "df_param_accu.sort_values(by=[\"Accurarcy\"], ascending=False)"
   ]
  },
  {
   "cell_type": "code",
   "execution_count": 17,
   "metadata": {},
   "outputs": [],
   "source": [
    "    #Based on the graph in the above section, the best max_depth of the Decision Tree classifier is 4, now build the tree\n",
    "clf_tree = DecisionTreeClassifier(criterion='entropy', min_samples_split=17, max_depth=4, min_samples_leaf=7, random_state=100)\n",
    "clf_tree.fit(predi_train_tree, target_train)\n",
    "predictions_tree = clf_tree.predict(predi_test_tree)"
   ]
  },
  {
   "cell_type": "code",
   "execution_count": 18,
   "metadata": {},
   "outputs": [
    {
     "name": "stdout",
     "output_type": "stream",
     "text": [
      "The accuracy of Decision Tree classifier is:  0.8598726114649682\n",
      "The average accuracy score of Decision Tree under cross validation is:  0.8660645867542419\n"
     ]
    },
    {
     "data": {
      "image/png": "[encoded data removed]",
      "text/plain": [
       "<Figure size 432x288 with 2 Axes>"
      ]
     },
     "metadata": {
      "needs_background": "light"
     },
     "output_type": "display_data"
    }
   ],
   "source": [
    "#Plot Confusion Matrices for Decision Tree and MLP classifiers and calculate their accuracies\n",
    "    #For Decision Tree\n",
    "plot_conmatrix_tree = plot_confusion_matrix(clf_tree,predi_test_tree,target_test)\n",
    "plot_conmatrix_tree.ax_.set_title('Confusion Matrix for Decision Tree')\n",
    "\n",
    "print('The accuracy of Decision Tree classifier is: ',accuracy_score(target_test,predictions_tree))\n",
    "print(\"The average accuracy score of Decision Tree under cross validation is: \",cross_val_score(clf_tree,predictors_tree,target,cv=3).mean())"
   ]
  },
  {
   "cell_type": "code",
   "execution_count": 26,
   "metadata": {},
   "outputs": [
    {
     "name": "stdout",
     "output_type": "stream",
     "text": [
      "The accuracy of Multilayer Perceptron classifier is:  0.8535031847133758\n",
      "The average accuracy score of MLP under cross validation is:  0.8239846743295018\n"
     ]
    },
    {
     "data": {
      "image/png": "[encoded data removed]",
      "text/plain": [
       "<Figure size 432x288 with 2 Axes>"
      ]
     },
     "metadata": {
      "needs_background": "light"
     },
     "output_type": "display_data"
    }
   ],
   "source": [
    "#Build Multilayer Perceptron and make predictions\n",
    "clf_MLP = MLPClassifier(random_state=100, tol=5e-3)\n",
    "clf_MLP.fit(predi_train_MLP,target_train)\n",
    "predictions_MLP = clf_MLP.predict(predi_test_MLP)\n",
    "\n",
    "    #For MLP\n",
    "plot_conmatrix_MLP = plot_confusion_matrix(clf_MLP,predi_test_MLP,target_test)\n",
    "plot_conmatrix_MLP.ax_.set_title('Confusion Matrix for Multilayer Perceptron')\n",
    "print('The accuracy of Multilayer Perceptron classifier is: ',accuracy_score(target_test,predictions_MLP))\n",
    "print(\"The average accuracy score of MLP under cross validation is: \",cross_val_score(clf_MLP,predictors_MLP,target,cv=3).mean())\n",
    "plt.show()"
   ]
  },
  {
   "cell_type": "code",
   "execution_count": 27,
   "metadata": {},
   "outputs": [
    {
     "name": "stdout",
     "output_type": "stream",
     "text": [
      "         Decision Tree       MLP\n",
      "Class_d            0.0  0.065112\n",
      "Class_h            0.0  0.000574\n",
      "Class_o            1.0  0.934120\n",
      "Class_s            0.0  0.000195\n"
     ]
    }
   ],
   "source": [
    "    #Generate probability table for both classifiers\n",
    "prob_tree = clf_tree.predict_proba(predi_test_tree)\n",
    "prob_MLP = clf_MLP.predict_proba(predi_test_MLP)\n",
    "    #Probability table for the first sample\n",
    "probability_table_sample1 = pd.DataFrame([[prob_tree[0][0],prob_MLP[0][0]],\n",
    "                                 [prob_tree[0][1],prob_MLP[0][1]],\n",
    "                                 [prob_tree[0][2],prob_MLP[0][2]],\n",
    "                                 [prob_tree[0][3],prob_MLP[0][3]]],\n",
    "                                 columns=['Decision Tree','MLP'], index=['Class_d','Class_h','Class_o','Class_s'])\n",
    "print(probability_table_sample1)"
   ]
  },
  {
   "cell_type": "code",
   "execution_count": 36,
   "metadata": {},
   "outputs": [],
   "source": [
    " #Determine the class of the i-th sample\n",
    "def Clf_DT_MLP_Aggregate(i):\n",
    "    ##create a DataFrame containing all the samples and their probabilities in each class with regard to each classifier\n",
    "    samples=[]\n",
    "    class_b_proba = []\n",
    "    class_h_proba = []\n",
    "    class_o_proba = []\n",
    "    class_s_proba = []\n",
    "    for a in range(len(target_test)):\n",
    "        samples.append(a)\n",
    "        samples.append(a)\n",
    "        class_b_proba.append(prob_tree[a][0])\n",
    "        class_b_proba.append(prob_MLP[a][0])\n",
    "        class_h_proba.append(prob_tree[a][1])\n",
    "        class_h_proba.append(prob_MLP[a][1])\n",
    "        class_o_proba.append(prob_tree[a][2])\n",
    "        class_o_proba.append(prob_MLP[a][2])\n",
    "        class_s_proba.append(prob_tree[a][3])\n",
    "        class_s_proba.append(prob_MLP[a][3])\n",
    "    proba_table_DT_MLP = pd.DataFrame({\n",
    "        'Samples': samples,\n",
    "        'Class_b_proba' : class_b_proba,\n",
    "        'Class_h_proba' : class_h_proba,\n",
    "        'Class_o_proba' : class_o_proba,\n",
    "        'Class_s_proba' : class_s_proba\n",
    "    })\n",
    "    #Use Aggregate and Average functions to generate a new table with the average probability of the two classifiers in each class grouped by 'Samples'\n",
    "    proba_table_average = proba_table_DT_MLP.groupby('Samples').aggregate([np.average])\n",
    "    #Reversely index the column number by the values and this column number is the class ID\n",
    "    for y in range(4):\n",
    "        if proba_table_average.iloc[i,y] == proba_table_average.max(axis=1)[i]:\n",
    "            final_class = y\n",
    "            #print('The No.{0} sample belongs to class {1}'.format(i,final_class))\n",
    "    return final_class\n",
    "    "
   ]
  },
  {
   "cell_type": "code",
   "execution_count": 38,
   "metadata": {},
   "outputs": [
    {
     "name": "stdout",
     "output_type": "stream",
     "text": [
      "The accuracy of the Tree-MLP-combined classifier is:  0.8789808917197452\n"
     ]
    }
   ],
   "source": [
    "predictions_DT_MLP = []\n",
    "for i in range(len(target_test)):\n",
    "    predictions_DT_MLP.append(Clf_DT_MLP_Aggregate(i))\n",
    "accuracy_classifier_DT_MLP = accuracy_score(target_test,predictions_DT_MLP)\n",
    "print('The accuracy of the Tree-MLP-combined classifier is: ',accuracy_classifier_DT_MLP)"
   ]
  },
  {
   "cell_type": "code",
   "execution_count": 39,
   "metadata": {},
   "outputs": [
    {
     "name": "stdout",
     "output_type": "stream",
     "text": [
      "{0: 0.8222222222222222, 1: 0.75, 2: 0.8846153846153846, 3: 0.9310344827586207}\n",
      "Input the sample_ID you want to predict its class: 1\n",
      "The No.1 sample belongs to class 3\n"
     ]
    }
   ],
   "source": [
    "# Pr(class=’s’|DT=’s’) is actually the precision of predicting class 's' by Decision Tree; Get all the precision scores of all the class-predictions\n",
    "from sklearn.metrics import classification_report\n",
    "report = classification_report(target_test,predictions_tree,output_dict=True)\n",
    "precisions = {\n",
    "    0:report['0']['precision'],\n",
    "    1:report['1']['precision'],\n",
    "    2:report['2']['precision'],\n",
    "    3:report['3']['precision']\n",
    "}\n",
    "print(precisions)\n",
    "def classifier_DT_MLP_conditional(i):\n",
    "    samples = []\n",
    "    classes =[]\n",
    "    Proba_DT = []\n",
    "    Proba_MLP = []\n",
    "    samples.append(i)\n",
    "    samples.append(i)\n",
    "    samples.append(i)\n",
    "    samples.append(i)\n",
    "    classes.append(0)\n",
    "    classes.append(1)\n",
    "    classes.append(2)\n",
    "    classes.append(3)\n",
    "    Proba_DT.append(prob_tree[i][0])\n",
    "    Proba_DT.append(prob_tree[i][1])\n",
    "    Proba_DT.append(prob_tree[i][2])\n",
    "    Proba_DT.append(prob_tree[i][3])\n",
    "    Proba_MLP.append(prob_MLP[i][0])\n",
    "    Proba_MLP.append(prob_MLP[i][1])\n",
    "    Proba_MLP.append(prob_MLP[i][2])\n",
    "    Proba_MLP.append(prob_MLP[i][3])\n",
    "    proba_table_condition = pd.DataFrame({\n",
    "        'Samples' : samples,\n",
    "        'Classes' : classes,\n",
    "        'Proba_DT' : Proba_DT,\n",
    "        'Proba_MLP' : Proba_MLP\n",
    "    })\n",
    "    for a in range(4):\n",
    "        if proba_table_condition.iloc[a,2]==proba_table_condition.max()[2]:\n",
    "            max_class_DT = a\n",
    "    for b in range(4):\n",
    "        if proba_table_condition.iloc[b,3]==proba_table_condition.max()[3]:\n",
    "            max_class_MLP = b\n",
    "    \n",
    "    P1 = proba_table_condition.max()[2] * precisions[max_class_DT]\n",
    "    P2 = proba_table_condition.max()[3] * precisions[max_class_MLP]\n",
    "    if P1 > P2: return max_class_DT\n",
    "    else: return max_class_MLP\n",
    "    \n",
    "id = int(input('Input the sample_ID you want to predict its class: '))\n",
    "print('The No.{0} sample belongs to class {1}'.format(id,classifier_DT_MLP_conditional(id)))"
   ]
  },
  {
   "cell_type": "code",
   "execution_count": null,
   "metadata": {},
   "outputs": [],
   "source": []
  }
 ],
 "metadata": {
  "kernelspec": {
   "display_name": "Python 3",
   "language": "python",
   "name": "python3"
  },
  "language_info": {
   "codemirror_mode": {
    "name": "ipython",
    "version": 3
   },
   "file_extension": ".py",
   "mimetype": "text/x-python",
   "name": "python",
   "nbconvert_exporter": "python",
   "pygments_lexer": "ipython3",
   "version": "3.8.5"
  }
 },
 "nbformat": 4,
 "nbformat_minor": 4
}
